{
 "cells": [
  {
   "cell_type": "code",
   "execution_count": 1,
   "metadata": {},
   "outputs": [
    {
     "data": {
      "text/html": [
       "<div>\n",
       "<style scoped>\n",
       "    .dataframe tbody tr th:only-of-type {\n",
       "        vertical-align: middle;\n",
       "    }\n",
       "\n",
       "    .dataframe tbody tr th {\n",
       "        vertical-align: top;\n",
       "    }\n",
       "\n",
       "    .dataframe thead th {\n",
       "        text-align: right;\n",
       "    }\n",
       "</style>\n",
       "<table border=\"1\" class=\"dataframe\">\n",
       "  <thead>\n",
       "    <tr style=\"text-align: right;\">\n",
       "      <th></th>\n",
       "      <th>customerID</th>\n",
       "      <th>Churn</th>\n",
       "      <th>customer</th>\n",
       "      <th>phone</th>\n",
       "      <th>internet</th>\n",
       "      <th>account</th>\n",
       "    </tr>\n",
       "  </thead>\n",
       "  <tbody>\n",
       "    <tr>\n",
       "      <th>0</th>\n",
       "      <td>0002-ORFBO</td>\n",
       "      <td>No</td>\n",
       "      <td>{'gender': 'Female', 'SeniorCitizen': 0, 'Part...</td>\n",
       "      <td>{'PhoneService': 'Yes', 'MultipleLines': 'No'}</td>\n",
       "      <td>{'InternetService': 'DSL', 'OnlineSecurity': '...</td>\n",
       "      <td>{'Contract': 'One year', 'PaperlessBilling': '...</td>\n",
       "    </tr>\n",
       "    <tr>\n",
       "      <th>1</th>\n",
       "      <td>0003-MKNFE</td>\n",
       "      <td>No</td>\n",
       "      <td>{'gender': 'Male', 'SeniorCitizen': 0, 'Partne...</td>\n",
       "      <td>{'PhoneService': 'Yes', 'MultipleLines': 'Yes'}</td>\n",
       "      <td>{'InternetService': 'DSL', 'OnlineSecurity': '...</td>\n",
       "      <td>{'Contract': 'Month-to-month', 'PaperlessBilli...</td>\n",
       "    </tr>\n",
       "    <tr>\n",
       "      <th>2</th>\n",
       "      <td>0004-TLHLJ</td>\n",
       "      <td>Yes</td>\n",
       "      <td>{'gender': 'Male', 'SeniorCitizen': 0, 'Partne...</td>\n",
       "      <td>{'PhoneService': 'Yes', 'MultipleLines': 'No'}</td>\n",
       "      <td>{'InternetService': 'Fiber optic', 'OnlineSecu...</td>\n",
       "      <td>{'Contract': 'Month-to-month', 'PaperlessBilli...</td>\n",
       "    </tr>\n",
       "    <tr>\n",
       "      <th>3</th>\n",
       "      <td>0011-IGKFF</td>\n",
       "      <td>Yes</td>\n",
       "      <td>{'gender': 'Male', 'SeniorCitizen': 1, 'Partne...</td>\n",
       "      <td>{'PhoneService': 'Yes', 'MultipleLines': 'No'}</td>\n",
       "      <td>{'InternetService': 'Fiber optic', 'OnlineSecu...</td>\n",
       "      <td>{'Contract': 'Month-to-month', 'PaperlessBilli...</td>\n",
       "    </tr>\n",
       "    <tr>\n",
       "      <th>4</th>\n",
       "      <td>0013-EXCHZ</td>\n",
       "      <td>Yes</td>\n",
       "      <td>{'gender': 'Female', 'SeniorCitizen': 1, 'Part...</td>\n",
       "      <td>{'PhoneService': 'Yes', 'MultipleLines': 'No'}</td>\n",
       "      <td>{'InternetService': 'Fiber optic', 'OnlineSecu...</td>\n",
       "      <td>{'Contract': 'Month-to-month', 'PaperlessBilli...</td>\n",
       "    </tr>\n",
       "  </tbody>\n",
       "</table>\n",
       "</div>"
      ],
      "text/plain": [
       "   customerID Churn                                           customer  \\\n",
       "0  0002-ORFBO    No  {'gender': 'Female', 'SeniorCitizen': 0, 'Part...   \n",
       "1  0003-MKNFE    No  {'gender': 'Male', 'SeniorCitizen': 0, 'Partne...   \n",
       "2  0004-TLHLJ   Yes  {'gender': 'Male', 'SeniorCitizen': 0, 'Partne...   \n",
       "3  0011-IGKFF   Yes  {'gender': 'Male', 'SeniorCitizen': 1, 'Partne...   \n",
       "4  0013-EXCHZ   Yes  {'gender': 'Female', 'SeniorCitizen': 1, 'Part...   \n",
       "\n",
       "                                             phone  \\\n",
       "0   {'PhoneService': 'Yes', 'MultipleLines': 'No'}   \n",
       "1  {'PhoneService': 'Yes', 'MultipleLines': 'Yes'}   \n",
       "2   {'PhoneService': 'Yes', 'MultipleLines': 'No'}   \n",
       "3   {'PhoneService': 'Yes', 'MultipleLines': 'No'}   \n",
       "4   {'PhoneService': 'Yes', 'MultipleLines': 'No'}   \n",
       "\n",
       "                                            internet  \\\n",
       "0  {'InternetService': 'DSL', 'OnlineSecurity': '...   \n",
       "1  {'InternetService': 'DSL', 'OnlineSecurity': '...   \n",
       "2  {'InternetService': 'Fiber optic', 'OnlineSecu...   \n",
       "3  {'InternetService': 'Fiber optic', 'OnlineSecu...   \n",
       "4  {'InternetService': 'Fiber optic', 'OnlineSecu...   \n",
       "\n",
       "                                             account  \n",
       "0  {'Contract': 'One year', 'PaperlessBilling': '...  \n",
       "1  {'Contract': 'Month-to-month', 'PaperlessBilli...  \n",
       "2  {'Contract': 'Month-to-month', 'PaperlessBilli...  \n",
       "3  {'Contract': 'Month-to-month', 'PaperlessBilli...  \n",
       "4  {'Contract': 'Month-to-month', 'PaperlessBilli...  "
      ]
     },
     "execution_count": 1,
     "metadata": {},
     "output_type": "execute_result"
    }
   ],
   "source": [
    "# 01_limpieza_columnas.ipynb\n",
    "\n",
    "import pandas as pd\n",
    "\n",
    "# Cargar el archivo CSV tratado\n",
    "df = pd.read_csv('data/telecomx_data.csv')\n",
    "\n",
    "# Ver las primeras filas\n",
    "df.head()\n"
   ]
  },
  {
   "cell_type": "code",
   "execution_count": 9,
   "metadata": {},
   "outputs": [
    {
     "name": "stdout",
     "output_type": "stream",
     "text": [
      "Index(['Churn', 'customer', 'phone', 'internet', 'account'], dtype='object')\n"
     ]
    }
   ],
   "source": [
    "print(df.columns)\n"
   ]
  },
  {
   "cell_type": "code",
   "execution_count": 10,
   "metadata": {},
   "outputs": [],
   "source": [
    "df.to_csv('data/telecomx_data_limpio.csv', index=False)\n"
   ]
  },
  {
   "cell_type": "code",
   "execution_count": 11,
   "metadata": {},
   "outputs": [],
   "source": [
    "df_encoded = pd.get_dummies(df, drop_first=True)\n"
   ]
  },
  {
   "cell_type": "code",
   "execution_count": 12,
   "metadata": {},
   "outputs": [],
   "source": [
    "df_encoded.to_csv('data/telecomx_data_encoded.csv', index=False)\n"
   ]
  },
  {
   "cell_type": "code",
   "execution_count": 13,
   "metadata": {},
   "outputs": [
    {
     "name": "stdout",
     "output_type": "stream",
     "text": [
      "Churn\n",
      "No     5174\n",
      "Yes    1869\n",
      "Name: count, dtype: int64\n",
      "Churn\n",
      "No     0.73463\n",
      "Yes    0.26537\n",
      "Name: proportion, dtype: float64\n"
     ]
    }
   ],
   "source": [
    "# Ver distribución de la variable Churn\n",
    "print(df['Churn'].value_counts())\n",
    "\n",
    "# Ver proporciones relativas\n",
    "print(df['Churn'].value_counts(normalize=True))\n"
   ]
  },
  {
   "cell_type": "code",
   "execution_count": 20,
   "metadata": {},
   "outputs": [
    {
     "name": "stdout",
     "output_type": "stream",
     "text": [
      "Churn       object\n",
      "customer    object\n",
      "phone       object\n",
      "internet    object\n",
      "account     object\n",
      "dtype: object\n"
     ]
    }
   ],
   "source": [
    "print(df.dtypes)\n"
   ]
  },
  {
   "cell_type": "code",
   "execution_count": 21,
   "metadata": {},
   "outputs": [],
   "source": [
    "df_encoded = pd.get_dummies(df, drop_first=True)\n"
   ]
  },
  {
   "cell_type": "code",
   "execution_count": 22,
   "metadata": {},
   "outputs": [],
   "source": [
    "correlaciones = df_encoded.corr()\n"
   ]
  },
  {
   "cell_type": "code",
   "execution_count": 4,
   "metadata": {},
   "outputs": [],
   "source": [
    "import pandas as pd\n",
    "\n",
    "df = pd.read_csv('data/telecomx_data.csv')\n"
   ]
  },
  {
   "cell_type": "code",
   "execution_count": 5,
   "metadata": {},
   "outputs": [],
   "source": [
    "df_reducido = df.drop(['customer', 'phone', 'account'], axis=1)\n"
   ]
  },
  {
   "cell_type": "code",
   "execution_count": 6,
   "metadata": {},
   "outputs": [],
   "source": [
    "df_encoded = pd.get_dummies(df_reducido, drop_first=True)\n"
   ]
  },
  {
   "cell_type": "code",
   "execution_count": 7,
   "metadata": {},
   "outputs": [],
   "source": [
    "correlaciones = df_encoded.corr()\n"
   ]
  },
  {
   "cell_type": "code",
   "execution_count": 1,
   "metadata": {},
   "outputs": [],
   "source": [
    "import matplotlib.pyplot as plt\n",
    "import seaborn as sns\n"
   ]
  },
  {
   "cell_type": "code",
   "execution_count": 3,
   "metadata": {},
   "outputs": [
    {
     "name": "stdout",
     "output_type": "stream",
     "text": [
      "Working dir: /Users/Aracely/Desktop/telecomx-churn-analysis-parte2\n",
      "Usando archivo: data/telecomx_data.csv\n"
     ]
    },
    {
     "name": "stderr",
     "output_type": "stream",
     "text": [
      "/var/folders/7q/zrybffg57h31156bt30slz600000gp/T/ipykernel_48817/4217840600.py:35: FutureWarning: Downcasting object dtype arrays on .fillna, .ffill, .bfill is deprecated and will change in a future version. Call result.infer_objects(copy=False) instead. To opt-in to the future behavior, set `pd.set_option('future.no_silent_downcasting', True)`\n",
      "  df_reducido[target_col] = df_reducido[target_col].str.strip().str.title().map({\"Yes\":1, \"No\":0}).fillna(df_reducido[target_col])\n"
     ]
    },
    {
     "name": "stdout",
     "output_type": "stream",
     "text": [
      "Shape df_encoded: (7267, 15217)\n"
     ]
    }
   ],
   "source": [
    "\n",
    "import os, glob, numpy as np, pandas as pd\n",
    "import matplotlib.pyplot as plt\n",
    "\n",
    "# 0) Ubicación y verificación\n",
    "print(\"Working dir:\", os.getcwd())\n",
    "os.makedirs(\"data\", exist_ok=True)\n",
    "os.makedirs(\"figures\", exist_ok=True)\n",
    "os.makedirs(\"outputs\", exist_ok=True)\n",
    "\n",
    "# 1) Localizar automáticamente el CSV en ./data\n",
    "csvs = glob.glob(\"data/*.csv\")\n",
    "if not csvs:\n",
    "    raise FileNotFoundError(\"No encontré archivos .csv en la carpeta 'data/'. \"\n",
    "                            \"Mete tu dataset en esa carpeta o indica la ruta exacta.\")\n",
    "csv_path = csvs[0]  # si hay varios, elige el correcto manualmente\n",
    "print(\"Usando archivo:\", csv_path)\n",
    "\n",
    "# 2) Cargar dataset original\n",
    "df = pd.read_csv(csv_path)\n",
    "\n",
    "# 3) Crear df_reducido \n",
    "\n",
    "cols_drop = []  # p.ej.: [\"customerID\", \"unnamed\", \"notas\"]\n",
    "df_reducido = df.drop(columns=[c for c in cols_drop if c in df.columns], errors=\"ignore\")\n",
    "\n",
    "# 4) Definir nombre de la variable objetivo (AJUSTA AL TUYO)\n",
    "target_col = \"Churn\"  # ej: \"Churn\", \"Canceled\", \"churn\"\n",
    "if target_col not in df_reducido.columns:\n",
    "    raise KeyError(f\"No encontré la columna objetivo '{target_col}' en el dataset. \"\n",
    "                   f\"Columnas disponibles: {list(df_reducido.columns)[:15]}...\")\n",
    "\n",
    "# Si el target es texto Yes/No, mapeamos\n",
    "if df_reducido[target_col].dtype == \"O\":\n",
    "    df_reducido[target_col] = df_reducido[target_col].str.strip().str.title().map({\"Yes\":1, \"No\":0}).fillna(df_reducido[target_col])\n",
    "\n",
    "# 5) One-hot encoding (todo numérico)\n",
    "df_encoded = pd.get_dummies(df_reducido, drop_first=True, dtype=int)\n",
    "\n",
    "# Limpiar infinitos/nulos\n",
    "X = df_encoded.replace([np.inf, -np.inf], np.nan).fillna(0)\n",
    "\n",
    "print(\"Shape df_encoded:\", X.shape)\n",
    "\n",
    "# 6) Matriz de correlación y correlación con el target\n",
    "correlaciones = X.corr(numeric_only=True)\n",
    "if target_col not in correlaciones.columns:\n",
    "    raise KeyError(f\"Después del encoding, no aparece '{target_col}' en la matriz. \"\n",
    "                   \"Revisa que no lo hayas eliminado o renombrado.\")\n",
    "\n",
    "corr_target = correlaciones[target_col].sort_values(ascending=False)\n",
    "\n",
    "# 7) Guardar salidas\n",
    "correlaciones.to_csv(\"outputs/corr_matrix.csv\")\n",
    "corr_target.to_csv(\"outputs/corr_with_target.csv\")\n",
    "print(\"✓ Guardado outputs/corr_matrix.csv y outputs/corr_with_target.csv\")\n",
    "\n",
    "# 8) Gráficos\n",
    "plt.figure(figsize=(12,10))\n",
    "plt.imshow(correlaciones, aspect='auto')\n",
    "plt.title(\"Matriz de correlación (Pearson)\")\n",
    "plt.colorbar()\n",
    "plt.tight_layout()\n",
    "plt.savefig(\"figures/corr_heatmap.png\", dpi=150)\n",
    "plt.close()\n",
    "\n",
    "topN = 15\n",
    "top_feats = corr_target.abs().sort_values(ascending=False).head(topN).index\n",
    "sub = correlaciones.loc[top_feats, top_feats]\n",
    "plt.figure(figsize=(8,6))\n",
    "plt.imshow(sub, aspect='auto')\n",
    "plt.xticks(range(len(top_feats)), top_feats, rotation=90)\n",
    "plt.yticks(range(len(top_feats)), top_feats)\n",
    "plt.title(f\"Top {topN} correlaciones (abs) con {target_col}\")\n",
    "plt.colorbar()\n",
    "plt.tight_layout()\n",
    "plt.savefig(\"figures/corr_topN_heatmap.png\", dpi=150)\n",
    "plt.close()\n",
    "print(\"✓ Guardado figures/corr_heatmap.png y figures/corr_topN_heatmap.png\")\n",
    "\n",
    "# 9) Vista rápida de resultados\n",
    "print(\"\\nTop 20 variables por |r| con el target:\")\n",
    "print(corr_target.abs().sort_values(ascending=False).head(20))\n"
   ]
  },
  {
   "cell_type": "code",
   "execution_count": 4,
   "metadata": {},
   "outputs": [
    {
     "name": "stdout",
     "output_type": "stream",
     "text": [
      "Shapes -> X: (7267, 2) | y: (7267,)\n",
      "✓ outputs/corr_with_target.csv guardado\n",
      "✓ figures/corr_topN_heatmap.png guardado\n",
      "\n",
      "Top 20 |r| con el target:\n",
      "phone_{'PhoneService': 'Yes', 'MultipleLines': 'Yes'}    0.039343\n",
      "phone_{'PhoneService': 'Yes', 'MultipleLines': 'No'}     0.031430\n",
      "dtype: float64\n"
     ]
    }
   ],
   "source": [
    "\n",
    "import os, glob\n",
    "import numpy as np\n",
    "import pandas as pd\n",
    "import matplotlib.pyplot as plt\n",
    "\n",
    "# --- Cargar dataset ---\n",
    "csv_path = \"data/telecomx_data.csv\"   # tu archivo\n",
    "df = pd.read_csv(csv_path)\n",
    "\n",
    "# --- Definir target ---\n",
    "target_col = \"Churn\"  \n",
    "\n",
    "# Estandarizar target \n",
    "y = df[target_col]\n",
    "if y.dtype == \"O\":\n",
    "    y = y.astype(str).str.strip().str.title().map({\"Yes\": 1, \"No\": 0})\n",
    "y = y.fillna(0).astype(int)\n",
    "\n",
    "\n",
    "\n",
    "drop_base = [\"customerID\"]  \n",
    "df_reducido = df.drop(columns=[c for c in drop_base if c in df.columns], errors=\"ignore\")\n",
    "\n",
    "# --- Detectar categóricas de alta cardinalidad y filtrarlas ---\n",
    "cat_cols = [c for c in df_reducido.columns if df_reducido[c].dtype == \"O\" and c != target_col]\n",
    "uniques = df_reducido[cat_cols].nunique().sort_values(ascending=False)\n",
    "THRESH = 30  # umbral de cardinalidad\n",
    "high_card = uniques[uniques > THRESH].index.tolist()\n",
    "\n",
    "\n",
    "df_tmp = df_reducido.drop(columns=high_card, errors=\"ignore\")\n",
    "\n",
    "\n",
    "if target_col in df_tmp.columns:\n",
    "    df_tmp = df_tmp.drop(columns=[target_col])\n",
    "\n",
    "X = pd.get_dummies(df_tmp, drop_first=True, dtype=int)\n",
    "X = X.replace([np.inf, -np.inf], np.nan).fillna(0)\n",
    "\n",
    "print(\"Shapes -> X:\", X.shape, \"| y:\", y.shape)\n",
    "\n",
    "\n",
    "corr_target = X.corrwith(y).sort_values(key=lambda s: s.abs(), ascending=False)\n",
    "\n",
    "# --- Guardar salidas ---\n",
    "os.makedirs(\"outputs\", exist_ok=True)\n",
    "os.makedirs(\"figures\", exist_ok=True)\n",
    "corr_target.to_csv(\"outputs/corr_with_target.csv\", index=True)\n",
    "print(\"✓ outputs/corr_with_target.csv guardado\")\n",
    "\n",
    "# --- Heatmap pequeño con Top N ---\n",
    "topN = 15\n",
    "top_feats = corr_target.abs().head(topN).index.tolist()\n",
    "sub = pd.concat([X[top_feats], y.rename(target_col)], axis=1).corr()\n",
    "\n",
    "plt.figure(figsize=(8,6))\n",
    "plt.imshow(sub, aspect='auto')\n",
    "plt.xticks(range(len(sub.columns)), sub.columns, rotation=90)\n",
    "plt.yticks(range(len(sub.index)), sub.index)\n",
    "plt.title(f\"Top {topN} correlaciones (abs) con {target_col}\")\n",
    "plt.colorbar()\n",
    "plt.tight_layout()\n",
    "plt.savefig(\"figures/corr_topN_heatmap.png\", dpi=150)\n",
    "plt.close()\n",
    "print(\"✓ figures/corr_topN_heatmap.png guardado\")\n",
    "\n",
    "# --- Vista rápida ---\n",
    "print(\"\\nTop 20 |r| con el target:\")\n",
    "print(corr_target.abs().head(20))\n"
   ]
  },
  {
   "cell_type": "code",
   "execution_count": 3,
   "metadata": {},
   "outputs": [
    {
     "name": "stdout",
     "output_type": "stream",
     "text": [
      "['customerID', 'Churn', 'customer', 'phone', 'internet', 'account']\n"
     ]
    },
    {
     "data": {
      "text/plain": [
       "['Churn']"
      ]
     },
     "execution_count": 3,
     "metadata": {},
     "output_type": "execute_result"
    }
   ],
   "source": [
    "import pandas as pd\n",
    "\n",
    "# Cargar el dataset original (ajusta el nombre al tuyo dentro de /data)\n",
    "df = pd.read_csv(\"data/telecomx_data.csv\")  # cámbialo si el archivo se llama distinto\n",
    "\n",
    "# Mira todas las columnas\n",
    "print(df.columns.tolist())\n",
    "\n",
    "# Buscar columnas que contengan \"churn\" o \"cancel\"\n",
    "[col for col in df.columns if \"churn\" in col.lower() or \"cancel\" in col.lower()]\n",
    "\n"
   ]
  }
 ],
 "metadata": {
  "kernelspec": {
   "display_name": "Python 3",
   "language": "python",
   "name": "python3"
  },
  "language_info": {
   "codemirror_mode": {
    "name": "ipython",
    "version": 3
   },
   "file_extension": ".py",
   "mimetype": "text/x-python",
   "name": "python",
   "nbconvert_exporter": "python",
   "pygments_lexer": "ipython3",
   "version": "3.12.3"
  }
 },
 "nbformat": 4,
 "nbformat_minor": 2
}
