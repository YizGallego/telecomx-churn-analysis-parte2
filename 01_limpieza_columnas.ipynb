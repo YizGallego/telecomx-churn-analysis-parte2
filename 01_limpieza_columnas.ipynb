{
 "cells": [
  {
   "cell_type": "code",
   "execution_count": 1,
   "metadata": {},
   "outputs": [
    {
     "data": {
      "text/html": [
       "<div>\n",
       "<style scoped>\n",
       "    .dataframe tbody tr th:only-of-type {\n",
       "        vertical-align: middle;\n",
       "    }\n",
       "\n",
       "    .dataframe tbody tr th {\n",
       "        vertical-align: top;\n",
       "    }\n",
       "\n",
       "    .dataframe thead th {\n",
       "        text-align: right;\n",
       "    }\n",
       "</style>\n",
       "<table border=\"1\" class=\"dataframe\">\n",
       "  <thead>\n",
       "    <tr style=\"text-align: right;\">\n",
       "      <th></th>\n",
       "      <th>customerID</th>\n",
       "      <th>Churn</th>\n",
       "      <th>customer</th>\n",
       "      <th>phone</th>\n",
       "      <th>internet</th>\n",
       "      <th>account</th>\n",
       "    </tr>\n",
       "  </thead>\n",
       "  <tbody>\n",
       "    <tr>\n",
       "      <th>0</th>\n",
       "      <td>0002-ORFBO</td>\n",
       "      <td>No</td>\n",
       "      <td>{'gender': 'Female', 'SeniorCitizen': 0, 'Part...</td>\n",
       "      <td>{'PhoneService': 'Yes', 'MultipleLines': 'No'}</td>\n",
       "      <td>{'InternetService': 'DSL', 'OnlineSecurity': '...</td>\n",
       "      <td>{'Contract': 'One year', 'PaperlessBilling': '...</td>\n",
       "    </tr>\n",
       "    <tr>\n",
       "      <th>1</th>\n",
       "      <td>0003-MKNFE</td>\n",
       "      <td>No</td>\n",
       "      <td>{'gender': 'Male', 'SeniorCitizen': 0, 'Partne...</td>\n",
       "      <td>{'PhoneService': 'Yes', 'MultipleLines': 'Yes'}</td>\n",
       "      <td>{'InternetService': 'DSL', 'OnlineSecurity': '...</td>\n",
       "      <td>{'Contract': 'Month-to-month', 'PaperlessBilli...</td>\n",
       "    </tr>\n",
       "    <tr>\n",
       "      <th>2</th>\n",
       "      <td>0004-TLHLJ</td>\n",
       "      <td>Yes</td>\n",
       "      <td>{'gender': 'Male', 'SeniorCitizen': 0, 'Partne...</td>\n",
       "      <td>{'PhoneService': 'Yes', 'MultipleLines': 'No'}</td>\n",
       "      <td>{'InternetService': 'Fiber optic', 'OnlineSecu...</td>\n",
       "      <td>{'Contract': 'Month-to-month', 'PaperlessBilli...</td>\n",
       "    </tr>\n",
       "    <tr>\n",
       "      <th>3</th>\n",
       "      <td>0011-IGKFF</td>\n",
       "      <td>Yes</td>\n",
       "      <td>{'gender': 'Male', 'SeniorCitizen': 1, 'Partne...</td>\n",
       "      <td>{'PhoneService': 'Yes', 'MultipleLines': 'No'}</td>\n",
       "      <td>{'InternetService': 'Fiber optic', 'OnlineSecu...</td>\n",
       "      <td>{'Contract': 'Month-to-month', 'PaperlessBilli...</td>\n",
       "    </tr>\n",
       "    <tr>\n",
       "      <th>4</th>\n",
       "      <td>0013-EXCHZ</td>\n",
       "      <td>Yes</td>\n",
       "      <td>{'gender': 'Female', 'SeniorCitizen': 1, 'Part...</td>\n",
       "      <td>{'PhoneService': 'Yes', 'MultipleLines': 'No'}</td>\n",
       "      <td>{'InternetService': 'Fiber optic', 'OnlineSecu...</td>\n",
       "      <td>{'Contract': 'Month-to-month', 'PaperlessBilli...</td>\n",
       "    </tr>\n",
       "  </tbody>\n",
       "</table>\n",
       "</div>"
      ],
      "text/plain": [
       "   customerID Churn                                           customer  \\\n",
       "0  0002-ORFBO    No  {'gender': 'Female', 'SeniorCitizen': 0, 'Part...   \n",
       "1  0003-MKNFE    No  {'gender': 'Male', 'SeniorCitizen': 0, 'Partne...   \n",
       "2  0004-TLHLJ   Yes  {'gender': 'Male', 'SeniorCitizen': 0, 'Partne...   \n",
       "3  0011-IGKFF   Yes  {'gender': 'Male', 'SeniorCitizen': 1, 'Partne...   \n",
       "4  0013-EXCHZ   Yes  {'gender': 'Female', 'SeniorCitizen': 1, 'Part...   \n",
       "\n",
       "                                             phone  \\\n",
       "0   {'PhoneService': 'Yes', 'MultipleLines': 'No'}   \n",
       "1  {'PhoneService': 'Yes', 'MultipleLines': 'Yes'}   \n",
       "2   {'PhoneService': 'Yes', 'MultipleLines': 'No'}   \n",
       "3   {'PhoneService': 'Yes', 'MultipleLines': 'No'}   \n",
       "4   {'PhoneService': 'Yes', 'MultipleLines': 'No'}   \n",
       "\n",
       "                                            internet  \\\n",
       "0  {'InternetService': 'DSL', 'OnlineSecurity': '...   \n",
       "1  {'InternetService': 'DSL', 'OnlineSecurity': '...   \n",
       "2  {'InternetService': 'Fiber optic', 'OnlineSecu...   \n",
       "3  {'InternetService': 'Fiber optic', 'OnlineSecu...   \n",
       "4  {'InternetService': 'Fiber optic', 'OnlineSecu...   \n",
       "\n",
       "                                             account  \n",
       "0  {'Contract': 'One year', 'PaperlessBilling': '...  \n",
       "1  {'Contract': 'Month-to-month', 'PaperlessBilli...  \n",
       "2  {'Contract': 'Month-to-month', 'PaperlessBilli...  \n",
       "3  {'Contract': 'Month-to-month', 'PaperlessBilli...  \n",
       "4  {'Contract': 'Month-to-month', 'PaperlessBilli...  "
      ]
     },
     "execution_count": 1,
     "metadata": {},
     "output_type": "execute_result"
    }
   ],
   "source": [
    "# 01_limpieza_columnas.ipynb\n",
    "\n",
    "import pandas as pd\n",
    "\n",
    "# Cargar el archivo CSV tratado\n",
    "df = pd.read_csv('data/telecomx_data.csv')\n",
    "\n",
    "# Ver las primeras filas\n",
    "df.head()\n"
   ]
  },
  {
   "cell_type": "code",
   "execution_count": 9,
   "metadata": {},
   "outputs": [
    {
     "name": "stdout",
     "output_type": "stream",
     "text": [
      "Index(['Churn', 'customer', 'phone', 'internet', 'account'], dtype='object')\n"
     ]
    }
   ],
   "source": [
    "print(df.columns)\n"
   ]
  },
  {
   "cell_type": "code",
   "execution_count": 10,
   "metadata": {},
   "outputs": [],
   "source": [
    "df.to_csv('data/telecomx_data_limpio.csv', index=False)\n"
   ]
  },
  {
   "cell_type": "code",
   "execution_count": 11,
   "metadata": {},
   "outputs": [],
   "source": [
    "df_encoded = pd.get_dummies(df, drop_first=True)\n"
   ]
  },
  {
   "cell_type": "code",
   "execution_count": 12,
   "metadata": {},
   "outputs": [],
   "source": [
    "df_encoded.to_csv('data/telecomx_data_encoded.csv', index=False)\n"
   ]
  },
  {
   "cell_type": "code",
   "execution_count": 13,
   "metadata": {},
   "outputs": [
    {
     "name": "stdout",
     "output_type": "stream",
     "text": [
      "Churn\n",
      "No     5174\n",
      "Yes    1869\n",
      "Name: count, dtype: int64\n",
      "Churn\n",
      "No     0.73463\n",
      "Yes    0.26537\n",
      "Name: proportion, dtype: float64\n"
     ]
    }
   ],
   "source": [
    "# Ver distribución de la variable Churn\n",
    "print(df['Churn'].value_counts())\n",
    "\n",
    "# Ver proporciones relativas\n",
    "print(df['Churn'].value_counts(normalize=True))\n"
   ]
  },
  {
   "cell_type": "code",
   "execution_count": 20,
   "metadata": {},
   "outputs": [
    {
     "name": "stdout",
     "output_type": "stream",
     "text": [
      "Churn       object\n",
      "customer    object\n",
      "phone       object\n",
      "internet    object\n",
      "account     object\n",
      "dtype: object\n"
     ]
    }
   ],
   "source": [
    "print(df.dtypes)\n"
   ]
  },
  {
   "cell_type": "code",
   "execution_count": 21,
   "metadata": {},
   "outputs": [],
   "source": [
    "df_encoded = pd.get_dummies(df, drop_first=True)\n"
   ]
  },
  {
   "cell_type": "code",
   "execution_count": 22,
   "metadata": {},
   "outputs": [],
   "source": [
    "correlaciones = df_encoded.corr()\n"
   ]
  },
  {
   "cell_type": "code",
   "execution_count": 4,
   "metadata": {},
   "outputs": [],
   "source": [
    "import pandas as pd\n",
    "\n",
    "df = pd.read_csv('data/telecomx_data.csv')\n"
   ]
  },
  {
   "cell_type": "code",
   "execution_count": 5,
   "metadata": {},
   "outputs": [],
   "source": [
    "df_reducido = df.drop(['customer', 'phone', 'account'], axis=1)\n"
   ]
  },
  {
   "cell_type": "code",
   "execution_count": 6,
   "metadata": {},
   "outputs": [],
   "source": [
    "df_encoded = pd.get_dummies(df_reducido, drop_first=True)\n"
   ]
  },
  {
   "cell_type": "code",
   "execution_count": 7,
   "metadata": {},
   "outputs": [],
   "source": [
    "correlaciones = df_encoded.corr()\n"
   ]
  },
  {
   "cell_type": "code",
   "execution_count": 1,
   "metadata": {},
   "outputs": [],
   "source": [
    "import matplotlib.pyplot as plt\n",
    "import seaborn as sns\n"
   ]
  },
  {
   "cell_type": "code",
   "execution_count": 3,
   "metadata": {},
   "outputs": [
    {
     "name": "stdout",
     "output_type": "stream",
     "text": [
      "Working dir: /Users/Aracely/Desktop/telecomx-churn-analysis-parte2\n",
      "Usando archivo: data/telecomx_data.csv\n"
     ]
    },
    {
     "name": "stderr",
     "output_type": "stream",
     "text": [
      "/var/folders/7q/zrybffg57h31156bt30slz600000gp/T/ipykernel_48817/4217840600.py:35: FutureWarning: Downcasting object dtype arrays on .fillna, .ffill, .bfill is deprecated and will change in a future version. Call result.infer_objects(copy=False) instead. To opt-in to the future behavior, set `pd.set_option('future.no_silent_downcasting', True)`\n",
      "  df_reducido[target_col] = df_reducido[target_col].str.strip().str.title().map({\"Yes\":1, \"No\":0}).fillna(df_reducido[target_col])\n"
     ]
    },
    {
     "name": "stdout",
     "output_type": "stream",
     "text": [
      "Shape df_encoded: (7267, 15217)\n"
     ]
    }
   ],
   "source": [
    "\n",
    "import os, glob, numpy as np, pandas as pd\n",
    "import matplotlib.pyplot as plt\n",
    "\n",
    "# 0) Ubicación y verificación\n",
    "print(\"Working dir:\", os.getcwd())\n",
    "os.makedirs(\"data\", exist_ok=True)\n",
    "os.makedirs(\"figures\", exist_ok=True)\n",
    "os.makedirs(\"outputs\", exist_ok=True)\n",
    "\n",
    "# 1) Localizar automáticamente el CSV en ./data\n",
    "csvs = glob.glob(\"data/*.csv\")\n",
    "if not csvs:\n",
    "    raise FileNotFoundError(\"No encontré archivos .csv en la carpeta 'data/'. \"\n",
    "                            \"Mete tu dataset en esa carpeta o indica la ruta exacta.\")\n",
    "csv_path = csvs[0]  # si hay varios, elige el correcto manualmente\n",
    "print(\"Usando archivo:\", csv_path)\n",
    "\n",
    "# 2) Cargar dataset original\n",
    "df = pd.read_csv(csv_path)\n",
    "\n",
    "# 3) Crear df_reducido \n",
    "\n",
    "cols_drop = []  # p.ej.: [\"customerID\", \"unnamed\", \"notas\"]\n",
    "df_reducido = df.drop(columns=[c for c in cols_drop if c in df.columns], errors=\"ignore\")\n",
    "\n",
    "# 4) Definir nombre de la variable objetivo (AJUSTA AL TUYO)\n",
    "target_col = \"Churn\"  # ej: \"Churn\", \"Canceled\", \"churn\"\n",
    "if target_col not in df_reducido.columns:\n",
    "    raise KeyError(f\"No encontré la columna objetivo '{target_col}' en el dataset. \"\n",
    "                   f\"Columnas disponibles: {list(df_reducido.columns)[:15]}...\")\n",
    "\n",
    "# Si el target es texto Yes/No, mapeamos\n",
    "if df_reducido[target_col].dtype == \"O\":\n",
    "    df_reducido[target_col] = df_reducido[target_col].str.strip().str.title().map({\"Yes\":1, \"No\":0}).fillna(df_reducido[target_col])\n",
    "\n",
    "# 5) One-hot encoding (todo numérico)\n",
    "df_encoded = pd.get_dummies(df_reducido, drop_first=True, dtype=int)\n",
    "\n",
    "# Limpiar infinitos/nulos\n",
    "X = df_encoded.replace([np.inf, -np.inf], np.nan).fillna(0)\n",
    "\n",
    "print(\"Shape df_encoded:\", X.shape)\n",
    "\n",
    "# 6) Matriz de correlación y correlación con el target\n",
    "correlaciones = X.corr(numeric_only=True)\n",
    "if target_col not in correlaciones.columns:\n",
    "    raise KeyError(f\"Después del encoding, no aparece '{target_col}' en la matriz. \"\n",
    "                   \"Revisa que no lo hayas eliminado o renombrado.\")\n",
    "\n",
    "corr_target = correlaciones[target_col].sort_values(ascending=False)\n",
    "\n",
    "# 7) Guardar salidas\n",
    "correlaciones.to_csv(\"outputs/corr_matrix.csv\")\n",
    "corr_target.to_csv(\"outputs/corr_with_target.csv\")\n",
    "print(\"✓ Guardado outputs/corr_matrix.csv y outputs/corr_with_target.csv\")\n",
    "\n",
    "# 8) Gráficos\n",
    "plt.figure(figsize=(12,10))\n",
    "plt.imshow(correlaciones, aspect='auto')\n",
    "plt.title(\"Matriz de correlación (Pearson)\")\n",
    "plt.colorbar()\n",
    "plt.tight_layout()\n",
    "plt.savefig(\"figures/corr_heatmap.png\", dpi=150)\n",
    "plt.close()\n",
    "\n",
    "topN = 15\n",
    "top_feats = corr_target.abs().sort_values(ascending=False).head(topN).index\n",
    "sub = correlaciones.loc[top_feats, top_feats]\n",
    "plt.figure(figsize=(8,6))\n",
    "plt.imshow(sub, aspect='auto')\n",
    "plt.xticks(range(len(top_feats)), top_feats, rotation=90)\n",
    "plt.yticks(range(len(top_feats)), top_feats)\n",
    "plt.title(f\"Top {topN} correlaciones (abs) con {target_col}\")\n",
    "plt.colorbar()\n",
    "plt.tight_layout()\n",
    "plt.savefig(\"figures/corr_topN_heatmap.png\", dpi=150)\n",
    "plt.close()\n",
    "print(\"✓ Guardado figures/corr_heatmap.png y figures/corr_topN_heatmap.png\")\n",
    "\n",
    "# 9) Vista rápida de resultados\n",
    "print(\"\\nTop 20 variables por |r| con el target:\")\n",
    "print(corr_target.abs().sort_values(ascending=False).head(20))\n"
   ]
  },
  {
   "cell_type": "code",
   "execution_count": 4,
   "metadata": {},
   "outputs": [
    {
     "name": "stdout",
     "output_type": "stream",
     "text": [
      "Shapes -> X: (7267, 2) | y: (7267,)\n",
      "✓ outputs/corr_with_target.csv guardado\n",
      "✓ figures/corr_topN_heatmap.png guardado\n",
      "\n",
      "Top 20 |r| con el target:\n",
      "phone_{'PhoneService': 'Yes', 'MultipleLines': 'Yes'}    0.039343\n",
      "phone_{'PhoneService': 'Yes', 'MultipleLines': 'No'}     0.031430\n",
      "dtype: float64\n"
     ]
    }
   ],
   "source": [
    "\n",
    "import os, glob\n",
    "import numpy as np\n",
    "import pandas as pd\n",
    "import matplotlib.pyplot as plt\n",
    "\n",
    "# --- Cargar dataset ---\n",
    "csv_path = \"data/telecomx_data.csv\"   # tu archivo\n",
    "df = pd.read_csv(csv_path)\n",
    "\n",
    "# --- Definir target ---\n",
    "target_col = \"Churn\"  \n",
    "\n",
    "# Estandarizar target \n",
    "y = df[target_col]\n",
    "if y.dtype == \"O\":\n",
    "    y = y.astype(str).str.strip().str.title().map({\"Yes\": 1, \"No\": 0})\n",
    "y = y.fillna(0).astype(int)\n",
    "\n",
    "\n",
    "\n",
    "drop_base = [\"customerID\"]  \n",
    "df_reducido = df.drop(columns=[c for c in drop_base if c in df.columns], errors=\"ignore\")\n",
    "\n",
    "# --- Detectar categóricas de alta cardinalidad y filtrarlas ---\n",
    "cat_cols = [c for c in df_reducido.columns if df_reducido[c].dtype == \"O\" and c != target_col]\n",
    "uniques = df_reducido[cat_cols].nunique().sort_values(ascending=False)\n",
    "THRESH = 30  # umbral de cardinalidad\n",
    "high_card = uniques[uniques > THRESH].index.tolist()\n",
    "\n",
    "\n",
    "df_tmp = df_reducido.drop(columns=high_card, errors=\"ignore\")\n",
    "\n",
    "\n",
    "if target_col in df_tmp.columns:\n",
    "    df_tmp = df_tmp.drop(columns=[target_col])\n",
    "\n",
    "X = pd.get_dummies(df_tmp, drop_first=True, dtype=int)\n",
    "X = X.replace([np.inf, -np.inf], np.nan).fillna(0)\n",
    "\n",
    "print(\"Shapes -> X:\", X.shape, \"| y:\", y.shape)\n",
    "\n",
    "\n",
    "corr_target = X.corrwith(y).sort_values(key=lambda s: s.abs(), ascending=False)\n",
    "\n",
    "# --- Guardar salidas ---\n",
    "os.makedirs(\"outputs\", exist_ok=True)\n",
    "os.makedirs(\"figures\", exist_ok=True)\n",
    "corr_target.to_csv(\"outputs/corr_with_target.csv\", index=True)\n",
    "print(\"✓ outputs/corr_with_target.csv guardado\")\n",
    "\n",
    "# --- Heatmap pequeño con Top N ---\n",
    "topN = 15\n",
    "top_feats = corr_target.abs().head(topN).index.tolist()\n",
    "sub = pd.concat([X[top_feats], y.rename(target_col)], axis=1).corr()\n",
    "\n",
    "plt.figure(figsize=(8,6))\n",
    "plt.imshow(sub, aspect='auto')\n",
    "plt.xticks(range(len(sub.columns)), sub.columns, rotation=90)\n",
    "plt.yticks(range(len(sub.index)), sub.index)\n",
    "plt.title(f\"Top {topN} correlaciones (abs) con {target_col}\")\n",
    "plt.colorbar()\n",
    "plt.tight_layout()\n",
    "plt.savefig(\"figures/corr_topN_heatmap.png\", dpi=150)\n",
    "plt.close()\n",
    "print(\"✓ figures/corr_topN_heatmap.png guardado\")\n",
    "\n",
    "# --- Vista rápida ---\n",
    "print(\"\\nTop 20 |r| con el target:\")\n",
    "print(corr_target.abs().head(20))\n"
   ]
  },
  {
   "cell_type": "code",
   "execution_count": 3,
   "metadata": {},
   "outputs": [
    {
     "name": "stdout",
     "output_type": "stream",
     "text": [
      "['customerID', 'Churn', 'customer', 'phone', 'internet', 'account']\n"
     ]
    },
    {
     "data": {
      "text/plain": [
       "['Churn']"
      ]
     },
     "execution_count": 3,
     "metadata": {},
     "output_type": "execute_result"
    }
   ],
   "source": [
    "import pandas as pd\n",
    "\n",
    "# Cargar el dataset original (ajusta el nombre al tuyo dentro de /data)\n",
    "df = pd.read_csv(\"data/telecomx_data.csv\")  # cámbialo si el archivo se llama distinto\n",
    "\n",
    "# Mira todas las columnas\n",
    "print(df.columns.tolist())\n",
    "\n",
    "# Buscar columnas que contengan \"churn\" o \"cancel\"\n",
    "[col for col in df.columns if \"churn\" in col.lower() or \"cancel\" in col.lower()]\n",
    "\n"
   ]
  },
  {
   "cell_type": "code",
   "execution_count": 8,
   "metadata": {},
   "outputs": [
    {
     "name": "stdout",
     "output_type": "stream",
     "text": [
      "dict_keys(['Contract', 'PaperlessBilling', 'PaymentMethod', 'Charges'])\n",
      "{'Contract': 'One year', 'PaperlessBilling': 'Yes', 'PaymentMethod': 'Mailed check', 'Charges': {'Monthly': 65.6, 'Total': '593.3'}}\n"
     ]
    }
   ],
   "source": [
    "import ast\n",
    "\n",
    "# Convertir el string de diccionario a dict real (para la primera fila)\n",
    "ejemplo_account = ast.literal_eval(df[\"account\"].iloc[0])\n",
    "print(ejemplo_account.keys())\n",
    "print(ejemplo_account)\n",
    "\n",
    "\n"
   ]
  },
  {
   "cell_type": "code",
   "execution_count": 9,
   "metadata": {},
   "outputs": [
    {
     "data": {
      "image/png": "[encoded data removed]",
      "text/plain": [
       "<Figure size 600x400 with 1 Axes>"
      ]
     },
     "metadata": {},
     "output_type": "display_data"
    },
    {
     "data": {
      "image/png": "[encoded data removed]",
      "text/plain": [
       "<Figure size 600x400 with 1 Axes>"
      ]
     },
     "metadata": {},
     "output_type": "display_data"
    },
    {
     "data": {
      "image/png": "[encoded data removed]",
      "text/plain": [
       "<Figure size 600x400 with 1 Axes>"
      ]
     },
     "metadata": {},
     "output_type": "display_data"
    }
   ],
   "source": [
    "import ast\n",
    "import seaborn as sns\n",
    "import matplotlib.pyplot as plt\n",
    "import pandas as pd\n",
    "\n",
    "target_col = \"Churn\"\n",
    "\n",
    "# --- Convertir strings JSON a diccionarios reales ---\n",
    "df[\"account\"] = df[\"account\"].apply(ast.literal_eval)\n",
    "\n",
    "# --- Extraer columnas necesarias ---\n",
    "df[\"Contract\"] = df[\"account\"].apply(lambda x: x.get(\"Contract\"))\n",
    "df[\"TotalCharges\"] = df[\"account\"].apply(lambda x: x.get(\"Charges\", {}).get(\"Total\"))\n",
    "\n",
    "# Convertir TotalCharges a numérico\n",
    "df[\"TotalCharges\"] = pd.to_numeric(df[\"TotalCharges\"], errors=\"coerce\")\n",
    "\n",
    "# --- Boxplot: Tiempo de contrato vs Cancelación ---\n",
    "plt.figure(figsize=(6,4))\n",
    "sns.boxplot(x=target_col, y=\"Contract\", data=df)\n",
    "plt.title(\"Tiempo de contrato vs Cancelación\")\n",
    "plt.xlabel(\"Cancelación (Yes=1, No=0)\")\n",
    "plt.ylabel(\"Tipo de contrato\")\n",
    "plt.tight_layout()\n",
    "plt.savefig(\"figures/boxplot_contract_churn.png\", dpi=150)\n",
    "plt.show()\n",
    "\n",
    "# --- Boxplot: Gasto total vs Cancelación ---\n",
    "plt.figure(figsize=(6,4))\n",
    "sns.boxplot(x=target_col, y=\"TotalCharges\", data=df)\n",
    "plt.title(\"Gasto total vs Cancelación\")\n",
    "plt.xlabel(\"Cancelación (Yes=1, No=0)\")\n",
    "plt.ylabel(\"Gasto total\")\n",
    "plt.tight_layout()\n",
    "plt.savefig(\"figures/boxplot_totalcharges_churn.png\", dpi=150)\n",
    "plt.show()\n",
    "\n",
    "\n",
    "df[\"Contract_num\"] = df[\"Contract\"].astype(\"category\").cat.codes\n",
    "\n",
    "plt.figure(figsize=(6,4))\n",
    "sns.scatterplot(x=\"Contract_num\", y=\"TotalCharges\", hue=target_col, data=df, alpha=0.7)\n",
    "plt.title(\"Tipo de contrato y Gasto total (color = Cancelación)\")\n",
    "plt.xlabel(\"Tipo de contrato (codificado)\")\n",
    "plt.ylabel(\"Gasto total\")\n",
    "plt.tight_layout()\n",
    "plt.savefig(\"figures/scatter_contract_totalcharges_churn.png\", dpi=150)\n",
    "plt.show()\n"
   ]
  },
  {
   "cell_type": "code",
   "execution_count": 11,
   "metadata": {},
   "outputs": [
    {
     "name": "stdout",
     "output_type": "stream",
     "text": [
      "1.7.1\n"
     ]
    }
   ],
   "source": [
    "import sklearn\n",
    "print(sklearn.__version__)\n"
   ]
  },
  {
   "cell_type": "code",
   "execution_count": 13,
   "metadata": {},
   "outputs": [
    {
     "name": "stdout",
     "output_type": "stream",
     "text": [
      "Churn\n",
      "No     5174\n",
      "Yes    1869\n",
      "NaN     224\n",
      "Name: count, dtype: int64\n",
      "Nulos en Churn: 224\n"
     ]
    }
   ],
   "source": [
    "print(df[target_col].value_counts(dropna=False))\n",
    "print(\"Nulos en Churn:\", df[target_col].isna().sum())\n"
   ]
  },
  {
   "cell_type": "code",
   "execution_count": 14,
   "metadata": {},
   "outputs": [
    {
     "name": "stdout",
     "output_type": "stream",
     "text": [
      "Filas eliminadas por Churn nulo/ inválido: 224\n"
     ]
    }
   ],
   "source": [
    "target_col = \"Churn\"\n",
    "\n",
    "y_raw = df[target_col].astype(str).str.strip().str.title()  # \" yes  \" -> \"Yes\"\n",
    "y = y_raw.map({\"Yes\":1, \"No\":0})\n",
    "\n",
    "# Filtrar filas con y nulo\n",
    "mask = y.notna()\n",
    "removed = (~mask).sum()\n",
    "if removed > 0:\n",
    "    print(f\"Filas eliminadas por Churn nulo/ inválido: {removed}\")\n",
    "\n",
    "X = df.drop(columns=[target_col, \"customerID\"])\n",
    "X = X.loc[mask].reset_index(drop=True)\n",
    "y = y.loc[mask].astype(int).reset_index(drop=True)\n"
   ]
  },
  {
   "cell_type": "code",
   "execution_count": 15,
   "metadata": {},
   "outputs": [
    {
     "name": "stdout",
     "output_type": "stream",
     "text": [
      "Tamaño X_train: (4930, 7)\n",
      "Tamaño X_test: (2113, 7)\n",
      "Proporción Churn en train: 0.2653144016227181\n",
      "Proporción Churn en test: 0.26549929010885\n"
     ]
    }
   ],
   "source": [
    "from sklearn.model_selection import train_test_split\n",
    "\n",
    "X_train, X_test, y_train, y_test = train_test_split(\n",
    "    X, y,\n",
    "    test_size=0.30,\n",
    "    random_state=42,\n",
    "    stratify=y\n",
    ")\n",
    "\n",
    "print(\"Tamaño X_train:\", X_train.shape)\n",
    "print(\"Tamaño X_test:\", X_test.shape)\n",
    "print(\"Proporción Churn en train:\", y_train.mean())\n",
    "print(\"Proporción Churn en test:\", y_test.mean())\n"
   ]
  },
  {
   "cell_type": "code",
   "execution_count": 18,
   "metadata": {},
   "outputs": [
    {
     "name": "stdout",
     "output_type": "stream",
     "text": [
      "\n",
      "=== Regresión Logística ===\n",
      "Accuracy: 0.7345 | Precision: 0.5 | Recall: 0.8004 | F1: 0.6155\n",
      "[[1103  449]\n",
      " [ 112  449]]\n",
      "              precision    recall  f1-score   support\n",
      "\n",
      "           0       0.91      0.71      0.80      1552\n",
      "           1       0.50      0.80      0.62       561\n",
      "\n",
      "    accuracy                           0.73      2113\n",
      "   macro avg       0.70      0.76      0.71      2113\n",
      "weighted avg       0.80      0.73      0.75      2113\n",
      "\n",
      "\n",
      "=== Random Forest ===\n",
      "Accuracy: 0.7842 | Precision: 0.6154 | Recall: 0.4991 | F1: 0.5512\n",
      "[[1377  175]\n",
      " [ 281  280]]\n",
      "              precision    recall  f1-score   support\n",
      "\n",
      "           0       0.83      0.89      0.86      1552\n",
      "           1       0.62      0.50      0.55       561\n",
      "\n",
      "    accuracy                           0.78      2113\n",
      "   macro avg       0.72      0.69      0.70      2113\n",
      "weighted avg       0.77      0.78      0.78      2113\n",
      "\n"
     ]
    }
   ],
   "source": [
    "# === 0) Setup ===\n",
    "import pandas as pd, numpy as np, ast\n",
    "from sklearn.model_selection import train_test_split\n",
    "from sklearn.compose import ColumnTransformer\n",
    "from sklearn.preprocessing import OneHotEncoder, StandardScaler\n",
    "from sklearn.impute import SimpleImputer\n",
    "from sklearn.pipeline import Pipeline\n",
    "from sklearn.linear_model import LogisticRegression\n",
    "from sklearn.ensemble import RandomForestClassifier\n",
    "from sklearn.metrics import accuracy_score, precision_recall_fscore_support, classification_report, confusion_matrix\n",
    "\n",
    "target_col = \"Churn\"\n",
    "\n",
    "#  Aplastar columnas JSON \n",
    "def is_dict_like(x):\n",
    "    return isinstance(x, (dict,)) or (isinstance(x, str) and x.strip().startswith(\"{\") and x.strip().endswith(\"}\"))\n",
    "\n",
    "def flatten_json_column(df, col):\n",
    "    # Convierte strings a dict y normaliza\n",
    "    tmp = df[col].apply(lambda v: ast.literal_eval(v) if isinstance(v, str) and is_dict_like(v) else v)\n",
    "    # Si quedan dicts, expandir\n",
    "    if tmp.apply(lambda v: isinstance(v, dict)).any():\n",
    "        norm = pd.json_normalize(tmp)\n",
    "        norm.columns = [f\"{col}.{c}\" for c in norm.columns]\n",
    "        df = pd.concat([df.drop(columns=[col]), norm], axis=1)\n",
    "    return df\n",
    "\n",
    "for col in [\"customer\", \"phone\", \"internet\", \"account\"]:\n",
    "    if col in df.columns:\n",
    "        df = flatten_json_column(df, col)\n",
    "\n",
    "# Extra: si 'account.Charges.Total' viene como texto, convertir a número\n",
    "for c in [\"account.Charges.Total\", \"account.Charges.Monthly\"]:\n",
    "    if c in df.columns:\n",
    "        df[c] = pd.to_numeric(df[c], errors=\"coerce\")\n",
    "\n",
    "# Estandarizar y binarizar el target\n",
    "y_raw = df[target_col].astype(str).str.strip().str.title()\n",
    "y = y_raw.map({\"Yes\": 1, \"No\": 0})\n",
    "mask = y.notna()\n",
    "df = df.loc[mask].reset_index(drop=True)\n",
    "y = y.loc[mask].astype(int).reset_index(drop=True)\n",
    "\n",
    "#  Definir X y eliminar columnas no útiles\n",
    "drop_cols = [target_col, \"customerID\"]\n",
    "X = df.drop(columns=[c for c in drop_cols if c in df.columns])\n",
    "\n",
    "# Split (70/30) — \n",
    "X_train, X_test, y_train, y_test = train_test_split(\n",
    "    X, y, test_size=0.30, random_state=42, stratify=y\n",
    ")\n",
    "\n",
    "#  Preprocesamiento por tipo ===\n",
    "num_cols = X_train.select_dtypes(include=[np.number]).columns.tolist()\n",
    "cat_cols = X_train.select_dtypes(exclude=[np.number]).columns.tolist()\n",
    "\n",
    "num_pipeline = Pipeline(steps=[\n",
    "    (\"imputer\", SimpleImputer(strategy=\"median\")),\n",
    "    (\"scaler\", StandardScaler())\n",
    "])\n",
    "cat_pipeline = Pipeline(steps=[\n",
    "    (\"imputer\", SimpleImputer(strategy=\"most_frequent\")),\n",
    "    (\"onehot\", OneHotEncoder(handle_unknown=\"ignore\"))\n",
    "])\n",
    "\n",
    "preprocess = ColumnTransformer(\n",
    "    transformers=[\n",
    "        (\"num\", num_pipeline, num_cols),\n",
    "        (\"cat\", cat_pipeline, cat_cols),\n",
    "    ],\n",
    "    remainder=\"drop\"\n",
    ")\n",
    "\n",
    "#  Modelo con normalización:\n",
    "log_reg = Pipeline(steps=[\n",
    "    (\"prep\", preprocess),\n",
    "    (\"clf\", LogisticRegression(max_iter=1000, class_weight=\"balanced\", random_state=42))\n",
    "])\n",
    "log_reg.fit(X_train, y_train)\n",
    "pred_lr = log_reg.predict(X_test)\n",
    "acc_lr = accuracy_score(y_test, pred_lr)\n",
    "prec_lr, rec_lr, f1_lr, _ = precision_recall_fscore_support(y_test, pred_lr, average=\"binary\", zero_division=0)\n",
    "\n",
    "#  Modelo sin normalización: Random Forest ===\n",
    "rf = Pipeline(steps=[\n",
    "    (\"prep\", preprocess),\n",
    "    (\"clf\", RandomForestClassifier(n_estimators=300, random_state=42))\n",
    "])\n",
    "rf.fit(X_train, y_train)\n",
    "pred_rf = rf.predict(X_test)\n",
    "acc_rf = accuracy_score(y_test, pred_rf)\n",
    "prec_rf, rec_rf, f1_rf, _ = precision_recall_fscore_support(y_test, pred_rf, average=\"binary\", zero_division=0)\n",
    "\n",
    "# === 5) Resultados comparados ===\n",
    "print(\"\\n=== Regresión Logística ===\")\n",
    "print(\"Accuracy:\", round(acc_lr, 4), \"| Precision:\", round(prec_lr, 4), \"| Recall:\", round(rec_lr, 4), \"| F1:\", round(f1_lr, 4))\n",
    "print(confusion_matrix(y_test, pred_lr))\n",
    "print(classification_report(y_test, pred_lr, zero_division=0))\n",
    "\n",
    "print(\"\\n=== Random Forest ===\")\n",
    "print(\"Accuracy:\", round(acc_rf, 4), \"| Precision:\", round(prec_rf, 4), \"| Recall:\", round(rec_rf, 4), \"| F1:\", round(f1_rf, 4))\n",
    "print(confusion_matrix(y_test, pred_rf))\n",
    "print(classification_report(y_test, pred_rf, zero_division=0))\n"
   ]
  },
  {
   "cell_type": "code",
   "execution_count": 19,
   "metadata": {},
   "outputs": [
    {
     "name": "stdout",
     "output_type": "stream",
     "text": [
      "\n",
      "=== Regresión Logística ===\n",
      "Accuracy (train): 0.7538 | Accuracy (test): 0.7345\n",
      "Precision: 0.5000 | Recall: 0.8004 | F1: 0.6155\n",
      "Matriz de confusión:\n",
      "[[1103  449]\n",
      " [ 112  449]]\n",
      "\n",
      "Reporte de clasificación:\n",
      "              precision    recall  f1-score   support\n",
      "\n",
      "           0       0.91      0.71      0.80      1552\n",
      "           1       0.50      0.80      0.62       561\n",
      "\n",
      "    accuracy                           0.73      2113\n",
      "   macro avg       0.70      0.76      0.71      2113\n",
      "weighted avg       0.80      0.73      0.75      2113\n",
      "\n",
      "Diagnóstico: Sin señales fuertes de over/underfitting (train ≈ test).\n",
      "\n",
      "=== Random Forest ===\n",
      "Accuracy (train): 0.9978 | Accuracy (test): 0.7842\n",
      "Precision: 0.6154 | Recall: 0.4991 | F1: 0.5512\n",
      "Matriz de confusión:\n",
      "[[1377  175]\n",
      " [ 281  280]]\n",
      "\n",
      "Reporte de clasificación:\n",
      "              precision    recall  f1-score   support\n",
      "\n",
      "           0       0.83      0.89      0.86      1552\n",
      "           1       0.62      0.50      0.55       561\n",
      "\n",
      "    accuracy                           0.78      2113\n",
      "   macro avg       0.72      0.69      0.70      2113\n",
      "weighted avg       0.77      0.78      0.78      2113\n",
      "\n",
      "Diagnóstico: Posible OVERFITTING (accuracy de train bastante mayor que test).\n",
      "\n",
      "=== Comparación rápida (conjunto de TEST) ===\n",
      "Regresión Logística: Acc=0.7345 | Prec=0.5000 | Rec=0.8004 | F1=0.6155\n",
      "Random Forest: Acc=0.7842 | Prec=0.6154 | Rec=0.4991 | F1=0.5512\n"
     ]
    }
   ],
   "source": [
    "# === Evaluación de modelos \n",
    "from sklearn.metrics import accuracy_score, precision_recall_fscore_support, confusion_matrix, classification_report\n",
    "\n",
    "def evaluar_modelo(model, X_tr, y_tr, X_te, y_te, nombre):\n",
    "    # Predicciones\n",
    "    y_tr_pred = model.predict(X_tr)\n",
    "    y_te_pred = model.predict(X_te)\n",
    "\n",
    "    # Métricas\n",
    "    acc_tr = accuracy_score(y_tr, y_tr_pred)\n",
    "    acc_te = accuracy_score(y_te, y_te_pred)\n",
    "    prec_te, rec_te, f1_te, _ = precision_recall_fscore_support(\n",
    "        y_te, y_te_pred, average=\"binary\", zero_division=0\n",
    "    )\n",
    "    cm = confusion_matrix(y_te, y_te_pred)\n",
    "\n",
    "    # Reporte\n",
    "    print(f\"\\n=== {nombre} ===\")\n",
    "    print(f\"Accuracy (train): {acc_tr:.4f} | Accuracy (test): {acc_te:.4f}\")\n",
    "    print(f\"Precision: {prec_te:.4f} | Recall: {rec_te:.4f} | F1: {f1_te:.4f}\")\n",
    "    print(\"Matriz de confusión:\")\n",
    "    print(cm)\n",
    "    print(\"\\nReporte de clasificación:\")\n",
    "    print(classification_report(y_te, y_te_pred, zero_division=0))\n",
    "\n",
    "    # Diagnóstico simple de overfitting / underfitting\n",
    "    gap = acc_tr - acc_te\n",
    "    if gap > 0.05:\n",
    "        diag = \"Posible OVERFITTING (accuracy de train bastante mayor que test).\"\n",
    "    elif gap < -0.02:\n",
    "        diag = \"Posible UNDERFITTING (test > train; el modelo podría ser simple).\"\n",
    "    else:\n",
    "        diag = \"Sin señales fuertes de over/underfitting (train ≈ test).\"\n",
    "    print(\"Diagnóstico:\", diag)\n",
    "\n",
    "    return {\"name\": nombre, \"acc\": acc_te, \"prec\": prec_te, \"rec\": rec_te, \"f1\": f1_te}\n",
    "\n",
    "# Evaluar ambos modelos\n",
    "res_lr = evaluar_modelo(log_reg, X_train, y_train, X_test, y_test, \"Regresión Logística\")\n",
    "res_rf = evaluar_modelo(rf, X_train, y_train, X_test, y_test, \"Random Forest\")\n",
    "\n",
    "# Resumen comparativo \n",
    "print(\"\\n=== Comparación rápida (conjunto de TEST) ===\")\n",
    "for r in [res_lr, res_rf]:\n",
    "    print(f\"{r['name']}: Acc={r['acc']:.4f} | Prec={r['prec']:.4f} | Rec={r['rec']:.4f} | F1={r['f1']:.4f}\")\n"
   ]
  },
  {
   "cell_type": "code",
   "execution_count": 20,
   "metadata": {},
   "outputs": [
    {
     "name": "stdout",
     "output_type": "stream",
     "text": [
      "✓ Guardado: outputs/importance_logistic.csv y outputs/importance_rf.csv\n",
      "✓ Guardado: figures/importance_logistic_topN.png y figures/importance_rf_topN.png\n",
      "\n",
      "=== Top 10 variables (Regresión Logística) ===\n",
      "                                     feature      coef  importance\n",
      "3                            customer.tenure -1.342210    1.342210\n",
      "21      internet.InternetService_Fiber optic  0.564091    0.564091\n",
      "20              internet.InternetService_DSL -0.501018    0.501018\n",
      "4                    account.Charges.Monthly -0.457544    0.457544\n",
      "1                               Contract_num -0.364184    0.364184\n",
      "0                               TotalCharges  0.325685    0.325685\n",
      "5                      account.Charges.Total  0.325685    0.325685\n",
      "44               account.PaperlessBilling_No -0.277667    0.277667\n",
      "48    account.PaymentMethod_Electronic check  0.272201    0.272201\n",
      "33  internet.TechSupport_No internet service -0.213790    0.213790\n",
      "\n",
      "=== Top 10 variables (Random Forest) ===\n",
      "                                   feature  importance\n",
      "5                    account.Charges.Total    0.121619\n",
      "0                             TotalCharges    0.118911\n",
      "4                  account.Charges.Monthly    0.111183\n",
      "3                          customer.tenure    0.102266\n",
      "1                             Contract_num    0.036222\n",
      "6                  Contract_Month-to-month    0.034666\n",
      "41         account.Contract_Month-to-month    0.032827\n",
      "23              internet.OnlineSecurity_No    0.025557\n",
      "48  account.PaymentMethod_Electronic check    0.025468\n",
      "32                 internet.TechSupport_No    0.022474\n"
     ]
    }
   ],
   "source": [
    "# === Importancia de variables: Regresión Logística y Random Forest ===\n",
    "import numpy as np\n",
    "import pandas as pd\n",
    "import matplotlib.pyplot as plt\n",
    "\n",
    "# 1) Recuperar nombres de features después del ColumnTransformer\n",
    "def get_feature_names(ct):\n",
    "    names = []\n",
    "    for name, trans, cols in ct.transformers_:\n",
    "        if name == \"remainder\" and trans == \"drop\":\n",
    "            continue\n",
    "        if hasattr(trans, \"named_steps\"):\n",
    "            # Pipeline (imputer, scaler/onehot, etc.)\n",
    "            last = trans.named_steps.get(\"onehot\", None)\n",
    "            if last is not None and hasattr(last, \"get_feature_names_out\"):\n",
    "                oh_names = last.get_feature_names_out(cols)\n",
    "                names.extend(oh_names)\n",
    "            else:\n",
    "                # pipeline numérico\n",
    "                names.extend(cols)\n",
    "        else:\n",
    "            # Transformador directo\n",
    "            if hasattr(trans, \"get_feature_names_out\"):\n",
    "                names.extend(trans.get_feature_names_out(cols))\n",
    "            else:\n",
    "                names.extend(cols)\n",
    "    return np.array(names, dtype=object)\n",
    "\n",
    "feature_names = get_feature_names(log_reg.named_steps[\"prep\"])\n",
    "\n",
    "# 2) Importancia – Regresión Logística \n",
    "lr_clf = log_reg.named_steps[\"clf\"]\n",
    "if lr_clf.coef_.ndim == 1:\n",
    "    lr_coef = lr_clf.coef_\n",
    "else:\n",
    "    lr_coef = lr_clf.coef_[0]  # binario\n",
    "\n",
    "imp_lr = pd.DataFrame({\n",
    "    \"feature\": feature_names,\n",
    "    \"importance\": np.abs(lr_coef).ravel(),\n",
    "    \"coef\": lr_coef.ravel()\n",
    "}).sort_values(\"importance\", ascending=False)\n",
    "\n",
    "# 3) Importancia – Random Forest\n",
    "rf_clf = rf.named_steps[\"clf\"]\n",
    "imp_rf = pd.DataFrame({\n",
    "    \"feature\": feature_names,\n",
    "    \"importance\": rf_clf.feature_importances_\n",
    "}).sort_values(\"importance\", ascending=False)\n",
    "\n",
    "# 4) Guardar a disco\n",
    "import os\n",
    "os.makedirs(\"outputs\", exist_ok=True)\n",
    "os.makedirs(\"figures\", exist_ok=True)\n",
    "imp_lr.to_csv(\"outputs/importance_logistic.csv\", index=False)\n",
    "imp_rf.to_csv(\"outputs/importance_rf.csv\", index=False)\n",
    "print(\"✓ Guardado: outputs/importance_logistic.csv y outputs/importance_rf.csv\")\n",
    "\n",
    "# 5) Gráficos Top N\n",
    "topN = 15\n",
    "\n",
    "plt.figure(figsize=(8,6))\n",
    "plt.barh(imp_lr.head(topN)[\"feature\"][::-1], imp_lr.head(topN)[\"importance\"][::-1])\n",
    "plt.title(f\"Top {topN} importancia (|coef|) – Regresión Logística\")\n",
    "plt.tight_layout()\n",
    "plt.savefig(\"figures/importance_logistic_topN.png\", dpi=150)\n",
    "plt.close()\n",
    "\n",
    "plt.figure(figsize=(8,6))\n",
    "plt.barh(imp_rf.head(topN)[\"feature\"][::-1], imp_rf.head(topN)[\"importance\"][::-1])\n",
    "plt.title(f\"Top {topN} importancia – Random Forest\")\n",
    "plt.tight_layout()\n",
    "plt.savefig(\"figures/importance_rf_topN.png\", dpi=150)\n",
    "plt.close()\n",
    "\n",
    "print(\"✓ Guardado: figures/importance_logistic_topN.png y figures/importance_rf_topN.png\")\n",
    "\n",
    "# 6) Resumen \n",
    "print(\"\\n=== Top 10 variables (Regresión Logística) ===\")\n",
    "print(imp_lr.head(10)[[\"feature\",\"coef\",\"importance\"]])\n",
    "\n",
    "print(\"\\n=== Top 10 variables (Random Forest) ===\")\n",
    "print(imp_rf.head(10))\n"
   ]
  },
  {
   "cell_type": "code",
   "execution_count": 21,
   "metadata": {},
   "outputs": [
    {
     "name": "stdout",
     "output_type": "stream",
     "text": [
      "\n",
      "=== Conclusiones del Análisis ===\n",
      "\n",
      "1. Comparación de modelos:\n",
      "   - Regresión Logística:\n",
      "       Accuracy: 73.45%\n",
      "       Precisión: 0.50\n",
      "       Recall: 0.80\n",
      "       F1-score: 0.62\n",
      "     Ventaja: Alto recall → detecta la mayoría de los casos de cancelación.\n",
      "\n",
      "   - Random Forest:\n",
      "       Accuracy: 78.42%\n",
      "       Precisión: 0.62\n",
      "       Recall: 0.50\n",
      "       F1-score: 0.55\n",
      "     Ventaja: Mayor exactitud y precisión global.\n",
      "\n",
      "2. Interpretación:\n",
      "   - Si la prioridad es detectar la mayor cantidad posible de clientes en riesgo\n",
      "     (maximizar recall), la Regresión Logística es más adecuada.\n",
      "   - Si se busca un balance entre precisión y exactitud para reducir falsos positivos,\n",
      "     el Random Forest es la mejor opción.\n",
      "\n",
      "3. Variables clave:\n",
      "   - Se identificaron las 10 variables más influyentes para cada modelo (ver análisis anterior).\n",
      "   - Estas variables deben guiar las estrategias de retención y segmentación.\n",
      "\n",
      "4. Próximos pasos:\n",
      "   - Ajustar hiperparámetros para optimizar el balance precisión–recall.\n",
      "   - Probar ajuste de umbral de decisión para priorizar recall o precisión según la estrategia.\n",
      "   - Validar resultados con cross-validation y calibración de probabilidades.\n",
      "\n",
      "\n"
     ]
    }
   ],
   "source": [
    "# === Conclusión Final ===\n",
    "conclusion = \"\"\"\n",
    "=== Conclusiones del Análisis ===\n",
    "\n",
    "1. Comparación de modelos:\n",
    "   - Regresión Logística:\n",
    "       Accuracy: 73.45%\n",
    "       Precisión: 0.50\n",
    "       Recall: 0.80\n",
    "       F1-score: 0.62\n",
    "     Ventaja: Alto recall → detecta la mayoría de los casos de cancelación.\n",
    "   \n",
    "   - Random Forest:\n",
    "       Accuracy: 78.42%\n",
    "       Precisión: 0.62\n",
    "       Recall: 0.50\n",
    "       F1-score: 0.55\n",
    "     Ventaja: Mayor exactitud y precisión global.\n",
    "\n",
    "2. Interpretación:\n",
    "   - Si la prioridad es detectar la mayor cantidad posible de clientes en riesgo\n",
    "     (maximizar recall), la Regresión Logística es más adecuada.\n",
    "   - Si se busca un balance entre precisión y exactitud para reducir falsos positivos,\n",
    "     el Random Forest es la mejor opción.\n",
    "\n",
    "3. Variables clave:\n",
    "   - Se identificaron las 10 variables más influyentes para cada modelo (ver análisis anterior).\n",
    "   - Estas variables deben guiar las estrategias de retención y segmentación.\n",
    "\n",
    "4. Próximos pasos:\n",
    "   - Ajustar hiperparámetros para optimizar el balance precisión–recall.\n",
    "   - Probar ajuste de umbral de decisión para priorizar recall o precisión según la estrategia.\n",
    "   - Validar resultados con cross-validation y calibración de probabilidades.\n",
    "\n",
    "\"\"\"\n",
    "\n",
    "print(conclusion)\n"
   ]
  }
 ],
 "metadata": {
  "kernelspec": {
   "display_name": "Python 3",
   "language": "python",
   "name": "python3"
  },
  "language_info": {
   "codemirror_mode": {
    "name": "ipython",
    "version": 3
   },
   "file_extension": ".py",
   "mimetype": "text/x-python",
   "name": "python",
   "nbconvert_exporter": "python",
   "pygments_lexer": "ipython3",
   "version": "3.12.3"
  }
 },
 "nbformat": 4,
 "nbformat_minor": 2
}
